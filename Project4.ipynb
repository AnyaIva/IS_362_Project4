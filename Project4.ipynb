{
 "cells": [
  {
   "cell_type": "code",
   "execution_count": 51,
   "id": "cfe6c9da",
   "metadata": {},
   "outputs": [],
   "source": [
    "import numpy as np\n",
    "import pandas as pd\n",
    "from matplotlib import pyplot as plt\n",
    "import seaborn as sns\n",
    "import sklearn.model_selection\n",
    "from sklearn import metrics\n",
    "from sklearn.linear_model import LogisticRegression\n",
    "from sklearn.model_selection import train_test_split as ttsplit\n",
    "\n",
    "%matplotlib inline"
   ]
  },
  {
   "cell_type": "code",
   "execution_count": 52,
   "id": "c719d1b2",
   "metadata": {},
   "outputs": [
    {
     "data": {
      "text/html": [
       "<div>\n",
       "<style scoped>\n",
       "    .dataframe tbody tr th:only-of-type {\n",
       "        vertical-align: middle;\n",
       "    }\n",
       "\n",
       "    .dataframe tbody tr th {\n",
       "        vertical-align: top;\n",
       "    }\n",
       "\n",
       "    .dataframe thead th {\n",
       "        text-align: right;\n",
       "    }\n",
       "</style>\n",
       "<table border=\"1\" class=\"dataframe\">\n",
       "  <thead>\n",
       "    <tr style=\"text-align: right;\">\n",
       "      <th></th>\n",
       "      <th>Mushroom_Safe</th>\n",
       "      <th>Odor</th>\n",
       "      <th>Mushroom_Stalk_Color_Below_Ring</th>\n",
       "    </tr>\n",
       "  </thead>\n",
       "  <tbody>\n",
       "    <tr>\n",
       "      <th>0</th>\n",
       "      <td>p</td>\n",
       "      <td>p</td>\n",
       "      <td>w</td>\n",
       "    </tr>\n",
       "    <tr>\n",
       "      <th>1</th>\n",
       "      <td>e</td>\n",
       "      <td>a</td>\n",
       "      <td>w</td>\n",
       "    </tr>\n",
       "    <tr>\n",
       "      <th>2</th>\n",
       "      <td>e</td>\n",
       "      <td>l</td>\n",
       "      <td>w</td>\n",
       "    </tr>\n",
       "    <tr>\n",
       "      <th>3</th>\n",
       "      <td>p</td>\n",
       "      <td>p</td>\n",
       "      <td>w</td>\n",
       "    </tr>\n",
       "    <tr>\n",
       "      <th>4</th>\n",
       "      <td>e</td>\n",
       "      <td>n</td>\n",
       "      <td>w</td>\n",
       "    </tr>\n",
       "  </tbody>\n",
       "</table>\n",
       "</div>"
      ],
      "text/plain": [
       "  Mushroom_Safe Odor Mushroom_Stalk_Color_Below_Ring\n",
       "0             p    p                               w\n",
       "1             e    a                               w\n",
       "2             e    l                               w\n",
       "3             p    p                               w\n",
       "4             e    n                               w"
      ]
     },
     "execution_count": 52,
     "metadata": {},
     "output_type": "execute_result"
    }
   ],
   "source": [
    "#selecting three columns, and giving them names for readability\n",
    "data = pd.read_csv('https://archive.ics.uci.edu/ml/machine-learning-databases/mushroom/agaricus-lepiota.data', \n",
    "                  sep = ',', \n",
    "                  header = None, \n",
    "                  usecols = [0,5,15], \n",
    "                  names = [\"Mushroom_Safe\", \"Odor\", \"Mushroom_Stalk_Color_Below_Ring\"])\n",
    "data.head()"
   ]
  },
  {
   "cell_type": "code",
   "execution_count": 53,
   "id": "608f9aab",
   "metadata": {},
   "outputs": [
    {
     "data": {
      "text/html": [
       "<div>\n",
       "<style scoped>\n",
       "    .dataframe tbody tr th:only-of-type {\n",
       "        vertical-align: middle;\n",
       "    }\n",
       "\n",
       "    .dataframe tbody tr th {\n",
       "        vertical-align: top;\n",
       "    }\n",
       "\n",
       "    .dataframe thead th {\n",
       "        text-align: right;\n",
       "    }\n",
       "</style>\n",
       "<table border=\"1\" class=\"dataframe\">\n",
       "  <thead>\n",
       "    <tr style=\"text-align: right;\">\n",
       "      <th></th>\n",
       "      <th>Mushroom_Safe</th>\n",
       "      <th>Odor</th>\n",
       "      <th>Mushroom_Stalk_Color_Below_Ring</th>\n",
       "    </tr>\n",
       "  </thead>\n",
       "  <tbody>\n",
       "    <tr>\n",
       "      <th>0</th>\n",
       "      <td>1</td>\n",
       "      <td>7</td>\n",
       "      <td>8</td>\n",
       "    </tr>\n",
       "    <tr>\n",
       "      <th>1</th>\n",
       "      <td>0</td>\n",
       "      <td>0</td>\n",
       "      <td>8</td>\n",
       "    </tr>\n",
       "    <tr>\n",
       "      <th>2</th>\n",
       "      <td>0</td>\n",
       "      <td>1</td>\n",
       "      <td>8</td>\n",
       "    </tr>\n",
       "    <tr>\n",
       "      <th>3</th>\n",
       "      <td>1</td>\n",
       "      <td>7</td>\n",
       "      <td>8</td>\n",
       "    </tr>\n",
       "    <tr>\n",
       "      <th>4</th>\n",
       "      <td>0</td>\n",
       "      <td>6</td>\n",
       "      <td>8</td>\n",
       "    </tr>\n",
       "  </tbody>\n",
       "</table>\n",
       "</div>"
      ],
      "text/plain": [
       "   Mushroom_Safe  Odor  Mushroom_Stalk_Color_Below_Ring\n",
       "0              1     7                                8\n",
       "1              0     0                                8\n",
       "2              0     1                                8\n",
       "3              1     7                                8\n",
       "4              0     6                                8"
      ]
     },
     "execution_count": 53,
     "metadata": {},
     "output_type": "execute_result"
    }
   ],
   "source": [
    "#converting mushroom safety, odor and mushroom stalk color below ring labels to \n",
    "#numerical values\n",
    "data.replace(to_replace={\"Mushroom_Safe\":{'p':1, 'e':0}}, inplace = True)\n",
    "data.replace(to_replace={\"Odor\":{'a':0, 'l':1, 'c':2, 'y':3, 'f':4, 'm':5, 'n':6, 'p':7, 's':8}}, inplace=True)\n",
    "data.replace(to_replace={\"Mushroom_Stalk_Color_Below_Ring\":{'n':0, 'b':1, 'c':2, 'g':3, 'o':4, 'p':5, 'u':6, 'e':7, 'w':8, 'y':9}}, inplace=True)\n",
    "data.head()"
   ]
  },
  {
   "cell_type": "code",
   "execution_count": 54,
   "id": "7eeb519a",
   "metadata": {},
   "outputs": [
    {
     "data": {
      "text/plain": [
       "0    4208\n",
       "1    3916\n",
       "Name: Mushroom_Safe, dtype: int64"
      ]
     },
     "execution_count": 54,
     "metadata": {},
     "output_type": "execute_result"
    }
   ],
   "source": [
    "#counting the number of mushrooms that are poisonous and edible\n",
    "count = data['Mushroom_Safe'].value_counts()\n",
    "count"
   ]
  },
  {
   "cell_type": "code",
   "execution_count": 55,
   "id": "89466c53",
   "metadata": {},
   "outputs": [
    {
     "data": {
      "text/plain": [
       "6    3528\n",
       "4    2160\n",
       "3     576\n",
       "8     576\n",
       "0     400\n",
       "1     400\n",
       "7     256\n",
       "2     192\n",
       "5      36\n",
       "Name: Odor, dtype: int64"
      ]
     },
     "execution_count": 55,
     "metadata": {},
     "output_type": "execute_result"
    }
   ],
   "source": [
    "#counting the number of mushrooms with each odor type\n",
    "count = data['Odor'].value_counts()\n",
    "count"
   ]
  },
  {
   "cell_type": "code",
   "execution_count": 56,
   "id": "14ab61e0",
   "metadata": {},
   "outputs": [
    {
     "data": {
      "text/plain": [
       "8    4384\n",
       "5    1872\n",
       "3     576\n",
       "0     512\n",
       "1     432\n",
       "4     192\n",
       "7      96\n",
       "2      36\n",
       "9      24\n",
       "Name: Mushroom_Stalk_Color_Below_Ring, dtype: int64"
      ]
     },
     "execution_count": 56,
     "metadata": {},
     "output_type": "execute_result"
    }
   ],
   "source": [
    "#counting the number of mushrooms with each mushroom stalk color below ring type\n",
    "count = data['Mushroom_Stalk_Color_Below_Ring'].value_counts()\n",
    "count"
   ]
  },
  {
   "cell_type": "code",
   "execution_count": 57,
   "id": "5a8ac2b9",
   "metadata": {},
   "outputs": [
    {
     "name": "stdout",
     "output_type": "stream",
     "text": [
      "(6499, 18) (1625, 18) (6499,) (1625,)\n"
     ]
    }
   ],
   "source": [
    "#converting categorical variables into dummy variables\n",
    "data = pd.get_dummies(data, columns=['Odor', 'Mushroom_Stalk_Color_Below_Ring'])\n",
    "\n",
    "#spliting the dataset into training and testing sets\n",
    "X = data.drop('Mushroom_Safe', axis=1)\n",
    "y = data['Mushroom_Safe']\n",
    "X_train, X_test, y_train, y_test = ttsplit(X, y, test_size=0.2, random_state=42)\n",
    "\n",
    "print (X_train.shape, X_test.shape, y_train.shape, y_test.shape)"
   ]
  },
  {
   "cell_type": "code",
   "execution_count": 60,
   "id": "73b8b0a7",
   "metadata": {},
   "outputs": [
    {
     "name": "stdout",
     "output_type": "stream",
     "text": [
      "Accuracy of Mushroom odor model: 0.9846153846153847\n",
      "Accuracy of Mushroom stalk color below ring model: 0.7058461538461539\n"
     ]
    }
   ],
   "source": [
    "#using logistic regression models prediction \n",
    "odor_model = LogisticRegression().fit(X_train.loc[:, 'Odor_0':'Odor_8'], y_train)\n",
    "stalk_color_model = LogisticRegression().fit(X_train.loc[:, 'Mushroom_Stalk_Color_Below_Ring_0':'Mushroom_Stalk_Color_Below_Ring_9'], y_train)\n",
    "\n",
    "#evaluating performance on testing set\n",
    "odor_pred = odor_model.predict(X_test.loc[:, 'Odor_0':'Odor_8'])\n",
    "stalk_color_pred = stalk_color_model.predict(X_test.loc[:, 'Mushroom_Stalk_Color_Below_Ring_0':'Mushroom_Stalk_Color_Below_Ring_9'])\n",
    "\n",
    "odor_acc = metrics.accuracy_score(y_test, odor_pred)\n",
    "stalk_color_acc = metrics.accuracy_score(y_test, stalk_color_pred)\n",
    "\n",
    "print(\"Accuracy of Mushroom odor model:\", odor_acc)\n",
    "print(\"Accuracy of Mushroom stalk color below ring model:\", stalk_color_acc)\n"
   ]
  },
  {
   "cell_type": "markdown",
   "id": "cc8c7a3f",
   "metadata": {},
   "source": [
    "Based on the above analysis, it appears that the odor predictor column is a better predictor of whether or not a mushroom is poisonous than the Mushroom_Stalk_Color_Below_Ring predictor column. However, this analysis only considers two predictor variables, and there may be other variables that are better predictors"
   ]
  },
  {
   "cell_type": "code",
   "execution_count": null,
   "id": "3ed1d4f8",
   "metadata": {},
   "outputs": [],
   "source": []
  }
 ],
 "metadata": {
  "kernelspec": {
   "display_name": "Python 3",
   "language": "python",
   "name": "python3"
  },
  "language_info": {
   "codemirror_mode": {
    "name": "ipython",
    "version": 3
   },
   "file_extension": ".py",
   "mimetype": "text/x-python",
   "name": "python",
   "nbconvert_exporter": "python",
   "pygments_lexer": "ipython3",
   "version": "3.8.10"
  }
 },
 "nbformat": 4,
 "nbformat_minor": 5
}
